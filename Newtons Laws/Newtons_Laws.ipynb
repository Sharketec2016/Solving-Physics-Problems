{
 "cells": [
  {
   "cell_type": "markdown",
   "metadata": {},
   "source": [
    "# Newtons Laws\n",
    "#### Within this file I code up Newtons Laws of Motion and apply them to solve various problems. This time I will be using sympy as well to define some of the models"
   ]
  },
  {
   "cell_type": "code",
   "execution_count": 13,
   "metadata": {},
   "outputs": [],
   "source": [
    "import matplotlib.pyplot as plt\n",
    "import numpy as np\n",
    "import sympy as sm\n",
    "plt.style.use(\"classic\")"
   ]
  },
  {
   "cell_type": "markdown",
   "metadata": {},
   "source": [
    "# Newtons Laws of Motion\n",
    "#### First \n",
    "> A body remains at rest, or in motion at a constant speed in a straight line, unless acted upon by a external force.\n",
    "$$ \\frac{\\delta}{\\delta t}\\nu (t)=0\\hspace{1em}if\\hspace{1em}\\vec{F_{net}}=0$$\n",
    "#### Second\n",
    "> When a body is acted upon by a force, the time rate of change of its momentum equals the force\n",
    "$$ Momentum\\hspace{1em}\\vec{p}=m\\vec{v},\\hspace{1em}thus\\\\ \\vec{F}=\\frac{d\\vec{p}}{dt}\\\\\\vec{F}=\\frac{m\\cdot d\\vec{v}}{dt}\\\\\\vec{F}=m\\frac{d^2s}{dt^2}\\\\ \\vec{F}=m\\cdot \\vec{a}$$\n",
    "#### Third\n",
    "> If two bodies exert forces on each other, these forces have the same magnitude but opposite directions\n",
    ">> $$ \\vec{F_{AB}} = \\vec{-F_{BA}} $$"
   ]
  },
  {
   "cell_type": "markdown",
   "metadata": {},
   "source": [
    "### Force of Gravity\n",
    "#### The force of gravity is just like any other force, but it is the intrinsic force betwen objects with mass.\n",
    "$$ \\vec{F_G} = m\\cdot g,\\hspace{1em}g=9.8 \\frac{m}{s^2} $$"
   ]
  },
  {
   "cell_type": "markdown",
   "metadata": {},
   "source": [
    "------"
   ]
  },
  {
   "cell_type": "markdown",
   "metadata": {},
   "source": [
    "* Note, all problems within this notebook are from the website: https://www.problemsphysics.com/forces/inclined_planes_problems.html"
   ]
  },
  {
   "cell_type": "markdown",
   "metadata": {},
   "source": [
    "# Problem 1\n",
    "#### A 2 kg box is put on the surface of an inclined plane at $\\theta = 27^o$ with the horizontal. The surface of the inclines plane is assumed to be frictionless.\n",
    "* 1) Draw a free body diagram of the box on the inclined plane and label all the forces acting on the box\n",
    "* 2) Determine the acceleration $\\vec{a}$ of the box down the plane.\n",
    "* 3) Determine the magnitude of the force exerted by the inclined plane on the box?\n",
    "\n",
    "<center>\n",
    "<img src='P1.jpg' alt='centered image' width=400 height=300>\n",
    "</center>"
   ]
  },
  {
   "cell_type": "code",
   "execution_count": 27,
   "metadata": {},
   "outputs": [
    {
     "name": "stdout",
     "output_type": "stream",
     "text": [
      "Thus the acceleration vector is: [8.731863937046006, 0.0]\n"
     ]
    },
    {
     "data": {
      "text/plain": [
       "array([0.        , 8.89821379])"
      ]
     },
     "execution_count": 27,
     "metadata": {},
     "output_type": "execute_result"
    }
   ],
   "source": [
    "#first create variables of all known quantities. Also our coordinates are aligned with the angles plane\n",
    "from re import A\n",
    "\n",
    "\n",
    "theta = 27 #deg\n",
    "m_box = 2 #kg\n",
    "g = 9.8 #m/s^2\n",
    "\n",
    "W = np.array([m_box*g*np.cos(np.deg2rad(theta)), -m_box*g*np.sin(np.deg2rad(theta))])\n",
    "N = np.array([0, m_box*g*np.sin(np.deg2rad(theta))])\n",
    "#now by Newtons second law, the sum of the forces acting on a object is equal to m*a, thus Fnet = m*a, and W+N=Fnet. W_x+N_x=Fnet_x, and similar to y, thus\n",
    "a_x = W[0]/m_box\n",
    "a_y = (W[1]+N[1])/m_box\n",
    "a = [a_x, a_y]\n",
    "print(f\"Thus the acceleration vector is: {a}\")\n",
    "#now what is the normal force, or the force the plane is acting on the box?\n"
   ]
  },
  {
   "cell_type": "code",
   "execution_count": null,
   "metadata": {},
   "outputs": [],
   "source": []
  }
 ],
 "metadata": {
  "kernelspec": {
   "display_name": "Python 3.9.13 64-bit (windows store)",
   "language": "python",
   "name": "python3"
  },
  "language_info": {
   "codemirror_mode": {
    "name": "ipython",
    "version": 3
   },
   "file_extension": ".py",
   "mimetype": "text/x-python",
   "name": "python",
   "nbconvert_exporter": "python",
   "pygments_lexer": "ipython3",
   "version": "3.9.13"
  },
  "orig_nbformat": 4,
  "vscode": {
   "interpreter": {
    "hash": "33d5b0a9044b8e9dcda424ef90295d4df9b2abb44be3f73a1a2cf96b6bd8371d"
   }
  }
 },
 "nbformat": 4,
 "nbformat_minor": 2
}
