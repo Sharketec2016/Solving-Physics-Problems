{
 "cells": [
  {
   "cell_type": "code",
   "execution_count": 2,
   "metadata": {},
   "outputs": [],
   "source": [
    "import matplotlib.pyplot as plt\n",
    "import numpy as np\n",
    "import sympy as sm\n",
    "plt.style.use('classic')"
   ]
  },
  {
   "cell_type": "markdown",
   "metadata": {},
   "source": [
    "### Within this notebook I explore Vector Calculus and some problems through code"
   ]
  },
  {
   "cell_type": "markdown",
   "metadata": {},
   "source": [
    "----"
   ]
  },
  {
   "cell_type": "markdown",
   "metadata": {},
   "source": [
    "# Line Integrals\n",
    "#### The line integral is an integral that results in the length of the path taken betwen two points. Some times the path taken could be closed, in which your starting point is the same as your ending point. These types of integrals are independent on the path taken and pertain to conserved quantities within physics. Say we have two points a and b. Then our vector $\\vec{v}$ describes the path taken, and dl represents our infentesimally small step in our coordinates. $d\\vec{l}=dx\\hat{x}+dy\\hat{y}+dz\\hat{z}$\n",
    "\n",
    "$$ \\int_a^b{\\vec{v} \\cdot d\\vec{l}} $$"
   ]
  },
  {
   "cell_type": "markdown",
   "metadata": {},
   "source": [
    "#### Calculate the line integral of the function $\\vec{v}=y^2\\hat{x} +2x(y+1)\\hat{y}$ from the point **a**=(1, 1, 0) to the point **b**=(2, 2, 0). What is $\\oint{v\\cdot dl}$?"
   ]
  },
  {
   "cell_type": "code",
   "execution_count": 47,
   "metadata": {},
   "outputs": [
    {
     "data": {
      "text/latex": [
       "$\\displaystyle \\left[\\begin{matrix}t^{2}\\\\2 t \\left(t + 1\\right)\\\\0\\end{matrix}\\right]$"
      ],
      "text/plain": [
       "Matrix([\n",
       "[       t**2],\n",
       "[2*t*(t + 1)],\n",
       "[          0]])"
      ]
     },
     "execution_count": 47,
     "metadata": {},
     "output_type": "execute_result"
    }
   ],
   "source": [
    "y, x, t, z = sm.symbols('y x t z')\n",
    "M = sm.Matrix([y**2, 2*x*(y+1), 0]) #with bounds a=(1, 1, 0), b=(2, 2, 0). Lets now make a substitution to a parameter t. Using the bounds as points, we calculate the slope between variable x and y. x-1/(2-1)=y-1/(2-1). Thus we set x=y=t and z=0.\n",
    "M = M.subs(y, t)\n",
    "M = M.subs(x, t)\n",
    "M"
   ]
  },
  {
   "cell_type": "code",
   "execution_count": 46,
   "metadata": {},
   "outputs": [
    {
     "name": "stdout",
     "output_type": "stream",
     "text": [
      "The length of the specified line was: 10\n"
     ]
    }
   ],
   "source": [
    "N = sm.integrate(M, (t, 1, 2))\n",
    "print(f\"The length of the specified line was: {sum(N)}\") \n",
    "#comment"
   ]
  },
  {
   "cell_type": "markdown",
   "metadata": {},
   "source": [
    "-----"
   ]
  }
 ],
 "metadata": {
  "kernelspec": {
   "display_name": "Python 3.9.13 64-bit (windows store)",
   "language": "python",
   "name": "python3"
  },
  "language_info": {
   "codemirror_mode": {
    "name": "ipython",
    "version": 3
   },
   "file_extension": ".py",
   "mimetype": "text/x-python",
   "name": "python",
   "nbconvert_exporter": "python",
   "pygments_lexer": "ipython3",
   "version": "3.9.13"
  },
  "orig_nbformat": 4,
  "vscode": {
   "interpreter": {
    "hash": "33d5b0a9044b8e9dcda424ef90295d4df9b2abb44be3f73a1a2cf96b6bd8371d"
   }
  }
 },
 "nbformat": 4,
 "nbformat_minor": 2
}
